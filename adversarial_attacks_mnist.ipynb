{
 "cells": [
  {
   "cell_type": "markdown",
   "id": "5f5aff7c",
   "metadata": {},
   "source": [
    "# Project: Implementing and Evaluating Adversarial Attacks (MNIST)\n",
    "\n",
    "## Part 1: Baseline Model and FGSM Attack\n",
    "\n",
    "This notebook demonstrates how to:\n",
    "1. Train a baseline Convolutional Neural Network (CNN) for MNIST digit classification.\n",
    "2. Apply the Fast Gradient Sign Method (FGSM) adversarial attack using the Adversarial Robustness Toolbox (ART).\n",
    "3. Evaluate the model's performance degradation under attack.\n",
    "\n",
    "We are using Python with TensorFlow/Keras and the ART library.\n",
    "\n",
    "**Author:** Chaudry Abdullah and Shahmir Ahmed\n",
    "**Roll** 2022-CS-206 and 2022_CS-215\n",
    "\n",
    "---\n",
    "\n",
    "### Step 1: Setup Environment & Imports\n",
    "\n",
    "This step involves ensuring the necessary libraries are installed (run `pip install tensorflow numpy matplotlib adversarial-robustness-toolbox[keras]` in your environment's terminal if needed) and importing them into the notebook."
   ]
  },
  {
   "cell_type": "code",
   "execution_count": 3,
   "id": "7e74892f",
   "metadata": {},
   "outputs": [
    {
     "name": "stderr",
     "output_type": "stream",
     "text": [
      "g:\\semester 6\\IS\\project\\.venv\\Lib\\site-packages\\tqdm\\auto.py:21: TqdmWarning: IProgress not found. Please update jupyter and ipywidgets. See https://ipywidgets.readthedocs.io/en/stable/user_install.html\n",
      "  from .autonotebook import tqdm as notebook_tqdm\n",
      "g:\\semester 6\\IS\\project\\.venv\\Lib\\site-packages\\art\\estimators\\certification\\__init__.py:30: UserWarning: PyTorch not found. Not importing DeepZ or Interval Bound Propagation functionality\n",
      "  warnings.warn(\"PyTorch not found. Not importing DeepZ or Interval Bound Propagation functionality\")\n"
     ]
    },
    {
     "name": "stdout",
     "output_type": "stream",
     "text": [
      "TensorFlow Version: 2.19.0\n",
      "Num GPUs Available: 0\n",
      "Keras is eagerly running: True\n"
     ]
    }
   ],
   "source": [
    "# Core libraries\n",
    "import numpy as np\n",
    "import tensorflow as tf\n",
    "#tf.compat.v1.disable_eager_execution()\n",
    "import matplotlib.pyplot as plt # For visualization later\n",
    "\n",
    "# Keras components\n",
    "from tensorflow.keras.datasets import mnist\n",
    "from tensorflow.keras.models import Sequential, load_model\n",
    "from tensorflow.keras.layers import Conv2D, MaxPooling2D, Flatten, Dense, Dropout\n",
    "from tensorflow.keras.utils import to_categorical\n",
    "from tensorflow.keras.optimizers import Adam\n",
    "from tensorflow.keras.losses import CategoricalCrossentropy\n",
    "\n",
    "# ART components\n",
    "from art.estimators.classification import KerasClassifier # we didnt use this as it conflicted with the eager running mode\n",
    "from art.attacks.evasion import FastGradientMethod\n",
    "from art.estimators.classification import TensorFlowV2Classifier\n",
    "\n",
    "# Check TensorFlow version (optional but good practice)\n",
    "print(f\"TensorFlow Version: {tf.__version__}\")\n",
    "print(f\"Num GPUs Available: {len(tf.config.experimental.list_physical_devices('GPU'))}\") # Checks for GPU\n",
    "# Check if Keras is running eagerly\n",
    "print(f\"Keras is eagerly running: {tf.executing_eagerly()}\")"
   ]
  },
  {
   "cell_type": "markdown",
   "id": "41aed712",
   "metadata": {},
   "source": [
    "### Step 2: Load and Preprocess MNIST Data\n",
    "\n",
    "Load the MNIST dataset using Keras utilities. Preprocess the images by:\n",
    "- Reshaping to include the channel dimension (28x28x1).\n",
    "- Converting to float32 data type.\n",
    "- Normalizing pixel values to the [0, 1] range.\n",
    "Preprocess the labels by converting them to one-hot encoded vectors."
   ]
  },
  {
   "cell_type": "code",
   "execution_count": 4,
   "id": "beb09906",
   "metadata": {},
   "outputs": [
    {
     "name": "stdout",
     "output_type": "stream",
     "text": [
      "--- MNIST Data Loaded and Preprocessed ---\n",
      "x_train shape: (60000, 28, 28, 1)\n",
      "y_train_categorical shape: (60000, 10)\n",
      "x_test shape: (10000, 28, 28, 1)\n",
      "y_test_categorical shape: (10000, 10)\n",
      "Input shape for model: (28, 28, 1)\n",
      "Number of classes: 10\n",
      "Min/Max pixel values: 0.0/1.0\n"
     ]
    }
   ],
   "source": [
    "# Load the MNIST dataset\n",
    "(x_train, y_train), (x_test, y_test) = mnist.load_data()\n",
    "\n",
    "# --- Preprocess images ---\n",
    "# Reshape and add channel dimension\n",
    "x_train = x_train.reshape(x_train.shape[0], 28, 28, 1)\n",
    "x_test = x_test.reshape(x_test.shape[0], 28, 28, 1)\n",
    "input_shape = (28, 28, 1)\n",
    "\n",
    "# Convert data type\n",
    "x_train = x_train.astype('float32')\n",
    "x_test = x_test.astype('float32')\n",
    "\n",
    "# Normalize pixel values\n",
    "x_train /= 255.0\n",
    "x_test /= 255.0\n",
    "\n",
    "# --- Preprocess labels ---\n",
    "num_classes = 10\n",
    "y_train_categorical = to_categorical(y_train, num_classes)\n",
    "y_test_categorical = to_categorical(y_test, num_classes) # Keep original y_test for later checks\n",
    "\n",
    "print(\"--- MNIST Data Loaded and Preprocessed ---\")\n",
    "print(f\"x_train shape: {x_train.shape}\")\n",
    "print(f\"y_train_categorical shape: {y_train_categorical.shape}\")\n",
    "print(f\"x_test shape: {x_test.shape}\")\n",
    "print(f\"y_test_categorical shape: {y_test_categorical.shape}\")\n",
    "print(f\"Input shape for model: {input_shape}\")\n",
    "print(f\"Number of classes: {num_classes}\")\n",
    "print(f\"Min/Max pixel values: {x_train.min()}/{x_train.max()}\") # Verify normalization"
   ]
  },
  {
   "cell_type": "markdown",
   "id": "9a0a62e4",
   "metadata": {},
   "source": [
    "### Step 3: Build and Train Baseline CNN Model\n",
    "\n",
    "Define a simple CNN architecture. Compile it with appropriate loss function (`categorical_crossentropy`) and optimizer (`Adam`). Train the model on the clean training data and evaluate its initial performance on the clean test data. Finally, save the trained model's architecture and weights for later use and reproducibility.\n",
    "\n",
    "*Note: If a trained model file (`mnist_cnn_baseline.keras`) already exists, this step can optionally load it instead of retraining.*"
   ]
  },
  {
   "cell_type": "code",
   "execution_count": 5,
   "id": "6cb30f3a",
   "metadata": {},
   "outputs": [
    {
     "name": "stdout",
     "output_type": "stream",
     "text": [
      "Found existing model file 'mnist_cnn_baseline.keras'. Loading model...\n",
      "Model loaded successfully.\n"
     ]
    },
    {
     "data": {
      "text/html": [
       "<pre style=\"white-space:pre;overflow-x:auto;line-height:normal;font-family:Menlo,'DejaVu Sans Mono',consolas,'Courier New',monospace\"><span style=\"font-weight: bold\">Model: \"Baseline_MNIST_CNN\"</span>\n",
       "</pre>\n"
      ],
      "text/plain": [
       "\u001b[1mModel: \"Baseline_MNIST_CNN\"\u001b[0m\n"
      ]
     },
     "metadata": {},
     "output_type": "display_data"
    },
    {
     "data": {
      "text/html": [
       "<pre style=\"white-space:pre;overflow-x:auto;line-height:normal;font-family:Menlo,'DejaVu Sans Mono',consolas,'Courier New',monospace\">┏━━━━━━━━━━━━━━━━━━━━━━━━━━━━━━━━━┳━━━━━━━━━━━━━━━━━━━━━━━━┳━━━━━━━━━━━━━━━┓\n",
       "┃<span style=\"font-weight: bold\"> Layer (type)                    </span>┃<span style=\"font-weight: bold\"> Output Shape           </span>┃<span style=\"font-weight: bold\">       Param # </span>┃\n",
       "┡━━━━━━━━━━━━━━━━━━━━━━━━━━━━━━━━━╇━━━━━━━━━━━━━━━━━━━━━━━━╇━━━━━━━━━━━━━━━┩\n",
       "│ conv2d (<span style=\"color: #0087ff; text-decoration-color: #0087ff\">Conv2D</span>)                 │ (<span style=\"color: #00d7ff; text-decoration-color: #00d7ff\">None</span>, <span style=\"color: #00af00; text-decoration-color: #00af00\">26</span>, <span style=\"color: #00af00; text-decoration-color: #00af00\">26</span>, <span style=\"color: #00af00; text-decoration-color: #00af00\">32</span>)     │           <span style=\"color: #00af00; text-decoration-color: #00af00\">320</span> │\n",
       "├─────────────────────────────────┼────────────────────────┼───────────────┤\n",
       "│ max_pooling2d (<span style=\"color: #0087ff; text-decoration-color: #0087ff\">MaxPooling2D</span>)    │ (<span style=\"color: #00d7ff; text-decoration-color: #00d7ff\">None</span>, <span style=\"color: #00af00; text-decoration-color: #00af00\">13</span>, <span style=\"color: #00af00; text-decoration-color: #00af00\">13</span>, <span style=\"color: #00af00; text-decoration-color: #00af00\">32</span>)     │             <span style=\"color: #00af00; text-decoration-color: #00af00\">0</span> │\n",
       "├─────────────────────────────────┼────────────────────────┼───────────────┤\n",
       "│ conv2d_1 (<span style=\"color: #0087ff; text-decoration-color: #0087ff\">Conv2D</span>)               │ (<span style=\"color: #00d7ff; text-decoration-color: #00d7ff\">None</span>, <span style=\"color: #00af00; text-decoration-color: #00af00\">11</span>, <span style=\"color: #00af00; text-decoration-color: #00af00\">11</span>, <span style=\"color: #00af00; text-decoration-color: #00af00\">64</span>)     │        <span style=\"color: #00af00; text-decoration-color: #00af00\">18,496</span> │\n",
       "├─────────────────────────────────┼────────────────────────┼───────────────┤\n",
       "│ max_pooling2d_1 (<span style=\"color: #0087ff; text-decoration-color: #0087ff\">MaxPooling2D</span>)  │ (<span style=\"color: #00d7ff; text-decoration-color: #00d7ff\">None</span>, <span style=\"color: #00af00; text-decoration-color: #00af00\">5</span>, <span style=\"color: #00af00; text-decoration-color: #00af00\">5</span>, <span style=\"color: #00af00; text-decoration-color: #00af00\">64</span>)       │             <span style=\"color: #00af00; text-decoration-color: #00af00\">0</span> │\n",
       "├─────────────────────────────────┼────────────────────────┼───────────────┤\n",
       "│ flatten (<span style=\"color: #0087ff; text-decoration-color: #0087ff\">Flatten</span>)               │ (<span style=\"color: #00d7ff; text-decoration-color: #00d7ff\">None</span>, <span style=\"color: #00af00; text-decoration-color: #00af00\">1600</span>)           │             <span style=\"color: #00af00; text-decoration-color: #00af00\">0</span> │\n",
       "├─────────────────────────────────┼────────────────────────┼───────────────┤\n",
       "│ dropout (<span style=\"color: #0087ff; text-decoration-color: #0087ff\">Dropout</span>)               │ (<span style=\"color: #00d7ff; text-decoration-color: #00d7ff\">None</span>, <span style=\"color: #00af00; text-decoration-color: #00af00\">1600</span>)           │             <span style=\"color: #00af00; text-decoration-color: #00af00\">0</span> │\n",
       "├─────────────────────────────────┼────────────────────────┼───────────────┤\n",
       "│ dense (<span style=\"color: #0087ff; text-decoration-color: #0087ff\">Dense</span>)                   │ (<span style=\"color: #00d7ff; text-decoration-color: #00d7ff\">None</span>, <span style=\"color: #00af00; text-decoration-color: #00af00\">10</span>)             │        <span style=\"color: #00af00; text-decoration-color: #00af00\">16,010</span> │\n",
       "└─────────────────────────────────┴────────────────────────┴───────────────┘\n",
       "</pre>\n"
      ],
      "text/plain": [
       "┏━━━━━━━━━━━━━━━━━━━━━━━━━━━━━━━━━┳━━━━━━━━━━━━━━━━━━━━━━━━┳━━━━━━━━━━━━━━━┓\n",
       "┃\u001b[1m \u001b[0m\u001b[1mLayer (type)                   \u001b[0m\u001b[1m \u001b[0m┃\u001b[1m \u001b[0m\u001b[1mOutput Shape          \u001b[0m\u001b[1m \u001b[0m┃\u001b[1m \u001b[0m\u001b[1m      Param #\u001b[0m\u001b[1m \u001b[0m┃\n",
       "┡━━━━━━━━━━━━━━━━━━━━━━━━━━━━━━━━━╇━━━━━━━━━━━━━━━━━━━━━━━━╇━━━━━━━━━━━━━━━┩\n",
       "│ conv2d (\u001b[38;5;33mConv2D\u001b[0m)                 │ (\u001b[38;5;45mNone\u001b[0m, \u001b[38;5;34m26\u001b[0m, \u001b[38;5;34m26\u001b[0m, \u001b[38;5;34m32\u001b[0m)     │           \u001b[38;5;34m320\u001b[0m │\n",
       "├─────────────────────────────────┼────────────────────────┼───────────────┤\n",
       "│ max_pooling2d (\u001b[38;5;33mMaxPooling2D\u001b[0m)    │ (\u001b[38;5;45mNone\u001b[0m, \u001b[38;5;34m13\u001b[0m, \u001b[38;5;34m13\u001b[0m, \u001b[38;5;34m32\u001b[0m)     │             \u001b[38;5;34m0\u001b[0m │\n",
       "├─────────────────────────────────┼────────────────────────┼───────────────┤\n",
       "│ conv2d_1 (\u001b[38;5;33mConv2D\u001b[0m)               │ (\u001b[38;5;45mNone\u001b[0m, \u001b[38;5;34m11\u001b[0m, \u001b[38;5;34m11\u001b[0m, \u001b[38;5;34m64\u001b[0m)     │        \u001b[38;5;34m18,496\u001b[0m │\n",
       "├─────────────────────────────────┼────────────────────────┼───────────────┤\n",
       "│ max_pooling2d_1 (\u001b[38;5;33mMaxPooling2D\u001b[0m)  │ (\u001b[38;5;45mNone\u001b[0m, \u001b[38;5;34m5\u001b[0m, \u001b[38;5;34m5\u001b[0m, \u001b[38;5;34m64\u001b[0m)       │             \u001b[38;5;34m0\u001b[0m │\n",
       "├─────────────────────────────────┼────────────────────────┼───────────────┤\n",
       "│ flatten (\u001b[38;5;33mFlatten\u001b[0m)               │ (\u001b[38;5;45mNone\u001b[0m, \u001b[38;5;34m1600\u001b[0m)           │             \u001b[38;5;34m0\u001b[0m │\n",
       "├─────────────────────────────────┼────────────────────────┼───────────────┤\n",
       "│ dropout (\u001b[38;5;33mDropout\u001b[0m)               │ (\u001b[38;5;45mNone\u001b[0m, \u001b[38;5;34m1600\u001b[0m)           │             \u001b[38;5;34m0\u001b[0m │\n",
       "├─────────────────────────────────┼────────────────────────┼───────────────┤\n",
       "│ dense (\u001b[38;5;33mDense\u001b[0m)                   │ (\u001b[38;5;45mNone\u001b[0m, \u001b[38;5;34m10\u001b[0m)             │        \u001b[38;5;34m16,010\u001b[0m │\n",
       "└─────────────────────────────────┴────────────────────────┴───────────────┘\n"
      ]
     },
     "metadata": {},
     "output_type": "display_data"
    },
    {
     "data": {
      "text/html": [
       "<pre style=\"white-space:pre;overflow-x:auto;line-height:normal;font-family:Menlo,'DejaVu Sans Mono',consolas,'Courier New',monospace\"><span style=\"font-weight: bold\"> Total params: </span><span style=\"color: #00af00; text-decoration-color: #00af00\">104,480</span> (408.13 KB)\n",
       "</pre>\n"
      ],
      "text/plain": [
       "\u001b[1m Total params: \u001b[0m\u001b[38;5;34m104,480\u001b[0m (408.13 KB)\n"
      ]
     },
     "metadata": {},
     "output_type": "display_data"
    },
    {
     "data": {
      "text/html": [
       "<pre style=\"white-space:pre;overflow-x:auto;line-height:normal;font-family:Menlo,'DejaVu Sans Mono',consolas,'Courier New',monospace\"><span style=\"font-weight: bold\"> Trainable params: </span><span style=\"color: #00af00; text-decoration-color: #00af00\">34,826</span> (136.04 KB)\n",
       "</pre>\n"
      ],
      "text/plain": [
       "\u001b[1m Trainable params: \u001b[0m\u001b[38;5;34m34,826\u001b[0m (136.04 KB)\n"
      ]
     },
     "metadata": {},
     "output_type": "display_data"
    },
    {
     "data": {
      "text/html": [
       "<pre style=\"white-space:pre;overflow-x:auto;line-height:normal;font-family:Menlo,'DejaVu Sans Mono',consolas,'Courier New',monospace\"><span style=\"font-weight: bold\"> Non-trainable params: </span><span style=\"color: #00af00; text-decoration-color: #00af00\">0</span> (0.00 B)\n",
       "</pre>\n"
      ],
      "text/plain": [
       "\u001b[1m Non-trainable params: \u001b[0m\u001b[38;5;34m0\u001b[0m (0.00 B)\n"
      ]
     },
     "metadata": {},
     "output_type": "display_data"
    },
    {
     "data": {
      "text/html": [
       "<pre style=\"white-space:pre;overflow-x:auto;line-height:normal;font-family:Menlo,'DejaVu Sans Mono',consolas,'Courier New',monospace\"><span style=\"font-weight: bold\"> Optimizer params: </span><span style=\"color: #00af00; text-decoration-color: #00af00\">69,654</span> (272.09 KB)\n",
       "</pre>\n"
      ],
      "text/plain": [
       "\u001b[1m Optimizer params: \u001b[0m\u001b[38;5;34m69,654\u001b[0m (272.09 KB)\n"
      ]
     },
     "metadata": {},
     "output_type": "display_data"
    },
    {
     "name": "stdout",
     "output_type": "stream",
     "text": [
      "\n",
      "--- Evaluating baseline model on clean test data ---\n",
      "Clean Test Loss: 0.0379\n",
      "Clean Test Accuracy: 0.9876\n"
     ]
    }
   ],
   "source": [
    "import os # To check for existing model file\n",
    "\n",
    "model_file_path = 'mnist_cnn_baseline.keras' # Use the new Keras format\n",
    "\n",
    "# --- Option 1: Train a new model if file doesn't exist ---\n",
    "if not os.path.exists(model_file_path):\n",
    "    print(f\"Model file '{model_file_path}' not found. Training a new model...\")\n",
    "\n",
    "    # Build the CNN model\n",
    "    model = Sequential(name=\"Baseline_MNIST_CNN\") # Give the model a name\n",
    "    model.add(Conv2D(32, kernel_size=(3, 3), activation='relu', input_shape=input_shape))\n",
    "    model.add(MaxPooling2D(pool_size=(2, 2)))\n",
    "    model.add(Conv2D(64, kernel_size=(3, 3), activation='relu'))\n",
    "    model.add(MaxPooling2D(pool_size=(2, 2)))\n",
    "    model.add(Flatten())\n",
    "    model.add(Dropout(0.5))\n",
    "    model.add(Dense(num_classes, activation='softmax'))\n",
    "\n",
    "    # Compile the model\n",
    "    optimizer = Adam(learning_rate=0.001)\n",
    "    model.compile(loss='categorical_crossentropy',\n",
    "                  optimizer=optimizer,\n",
    "                  metrics=['accuracy'])\n",
    "\n",
    "    # Print model summary\n",
    "    model.summary()\n",
    "\n",
    "    # Training parameters\n",
    "    batch_size = 128\n",
    "    epochs = 5 # Keep epochs low for quick testing, can increase\n",
    "\n",
    "    # Train the model\n",
    "    print(\"\\n--- Training the baseline model ---\")\n",
    "    history = model.fit(x_train, y_train_categorical,\n",
    "                        batch_size=batch_size,\n",
    "                        epochs=epochs,\n",
    "                        verbose=1,\n",
    "                        validation_split=0.1)\n",
    "\n",
    "    # Save the entire model (architecture + weights + optimizer state)\n",
    "    print(f\"\\nSaving trained model to {model_file_path}\")\n",
    "    model.save(model_file_path)\n",
    "    print(\"Model saved.\")\n",
    "\n",
    "else:\n",
    "    # --- Option 2: Load existing model ---\n",
    "    print(f\"Found existing model file '{model_file_path}'. Loading model...\")\n",
    "    model = load_model(model_file_path)\n",
    "    print(\"Model loaded successfully.\")\n",
    "    model.summary() # Display summary of loaded model\n",
    "\n",
    "\n",
    "# --- Evaluate the baseline model on the CLEAN test set ---\n",
    "print(\"\\n--- Evaluating baseline model on clean test data ---\")\n",
    "score = model.evaluate(x_test, y_test_categorical, verbose=0)\n",
    "baseline_accuracy = score[1] # Store for later comparison\n",
    "print(f\"Clean Test Loss: {score[0]:.4f}\")\n",
    "print(f\"Clean Test Accuracy: {baseline_accuracy:.4f}\")"
   ]
  },
  {
   "cell_type": "markdown",
   "id": "ff52b64f",
   "metadata": {},
   "source": [
    "### Step 4: Prepare for Attack with ART\n",
    "\n",
    "Wrap the loaded/trained Keras model using ART's `TensorFlowV2Classifier`. This wrapper standardizes the interface for ART attacks. We must provide:\n",
    "- The Keras model object.\n",
    "- `clip_values`: The valid range of input data (0.0 to 1.0 for our normalized MNIST).\n",
    "- `use_logits`: Set to `False` because our model's output layer uses `softmax` (outputs probabilities)."
   ]
  },
  {
   "cell_type": "code",
   "execution_count": 6,
   "id": "b366ac08",
   "metadata": {},
   "outputs": [
    {
     "name": "stdout",
     "output_type": "stream",
     "text": [
      "--- Keras model wrapped with ART TensorFlowV2Classifier ---\n"
     ]
    }
   ],
   "source": [
    "    # Cell 8 (Code - Wrap Model with ART - Corrected)\n",
    "\n",
    "    # Data range for clip_values\n",
    "    min_pixel_value = 0.0\n",
    "    max_pixel_value = 1.0\n",
    "\n",
    "    # --- Create an instance of the loss function object ---\n",
    "    # We need the actual callable object, not just the string name\n",
    "    loss_fn = CategoricalCrossentropy()\n",
    "\n",
    "    # --- Instantiate TensorFlowV2Classifier ---\n",
    "    classifier = TensorFlowV2Classifier(\n",
    "        model=model,\n",
    "        nb_classes=num_classes,\n",
    "        input_shape=input_shape,\n",
    "        loss_object=loss_fn,  # <<< CHANGE HERE: Pass the loss object instance\n",
    "        clip_values=(min_pixel_value, max_pixel_value),\n",
    "        channels_first=False\n",
    "    )\n",
    "\n",
    "    print(\"--- Keras model wrapped with ART TensorFlowV2Classifier ---\")"
   ]
  },
  {
   "cell_type": "markdown",
   "id": "4671cb56",
   "metadata": {},
   "source": [
    "### Step 5: Configure and Create the FGSM Attack\n",
    "\n",
    "Instantiate the `FastGradientMethod` attack object from ART. Key parameters:\n",
    "- `estimator`: The ART-wrapped classifier.\n",
    "- `eps`: Epsilon, controlling the maximum perturbation amount (attack strength). We'll start with 0.1.\n",
    "- `targeted`: Set to `False` for untargeted attacks (aiming for *any* misclassification)."
   ]
  },
  {
   "cell_type": "code",
   "execution_count": 7,
   "id": "d0bbd340",
   "metadata": {},
   "outputs": [
    {
     "name": "stdout",
     "output_type": "stream",
     "text": [
      "--- Configuring Fast Gradient Sign Method (FGSM) attack ---\n",
      "Epsilon (eps): 0.1\n",
      "FGSM attack object created successfully.\n"
     ]
    }
   ],
   "source": [
    "# FGSM parameters\n",
    "epsilon = 0.1  # Perturbation budget - EXPERIMENT with this value later! (e.g., 0.05, 0.2)\n",
    "\n",
    "print(f\"--- Configuring Fast Gradient Sign Method (FGSM) attack ---\")\n",
    "print(f\"Epsilon (eps): {epsilon}\")\n",
    "\n",
    "# Create the FGSM attack instance\n",
    "attack_fgsm = FastGradientMethod(\n",
    "    estimator=classifier,\n",
    "    eps=epsilon,\n",
    "    targeted=False\n",
    ")\n",
    "\n",
    "print(\"FGSM attack object created successfully.\")"
   ]
  },
  {
   "cell_type": "markdown",
   "id": "ceb4dd81",
   "metadata": {},
   "source": [
    "### Step 6: Generate Adversarial Examples\n",
    "\n",
    "Now we use the configured FGSM attack object (`attack_fgsm`) to generate adversarial samples from our clean test dataset (`x_test`). The `.generate()` method takes the original images as input and outputs the perturbed images.\n",
    "The method calculates the gradients and applies the FGSM formula (original_image + epsilon * sign(gradient)) for each image in x_test."
   ]
  },
  {
   "cell_type": "code",
   "execution_count": 8,
   "id": "51e44c81",
   "metadata": {},
   "outputs": [
    {
     "name": "stdout",
     "output_type": "stream",
     "text": [
      "--- Generating adversarial examples using FGSM ---\n",
      "Using epsilon = 0.1\n",
      "Adversarial examples generated.\n",
      "Shape of adversarial test set: (10000, 28, 28, 1)\n"
     ]
    }
   ],
   "source": [
    "# Generate adversarial examples using the test set\n",
    "print(\"--- Generating adversarial examples using FGSM ---\")\n",
    "print(f\"Using epsilon = {epsilon}\") # Display epsilon used for clarity\n",
    "\n",
    "# Generate adversarial test examples\n",
    "# It's often good practice to generate on a subset for quicker testing,\n",
    "# but here we'll use the whole test set for a complete evaluation.\n",
    "x_test_adv = attack_fgsm.generate(x=x_test)\n",
    "\n",
    "print(\"Adversarial examples generated.\")\n",
    "print(f\"Shape of adversarial test set: {x_test_adv.shape}\")"
   ]
  },
  {
   "cell_type": "markdown",
   "id": "76583258",
   "metadata": {},
   "source": [
    "### Step 7: Evaluate Model on Adversarial Examples\n",
    "\n",
    "We evaluate the performance of the *original baseline model* on the adversarial test set (`x_test_adv`) generated in the previous step. We compare the accuracy on these perturbed images to the `baseline_accuracy` obtained on the clean test data. A significant drop in accuracy indicates the success of the attack."
   ]
  },
  {
   "cell_type": "code",
   "execution_count": 9,
   "id": "3f36fda7",
   "metadata": {},
   "outputs": [
    {
     "name": "stdout",
     "output_type": "stream",
     "text": [
      "\n",
      "--- Evaluating baseline model on ADVERSARIAL test data ---\n",
      "Adversarial Test Loss: 0.3082\n",
      "Adversarial Test Accuracy: 0.8875\n",
      "\n",
      "--- Comparison ---\n",
      "Clean Test Accuracy (Baseline): 0.9876\n",
      "Adversarial Test Accuracy (FGSM, eps=0.1): 0.8875\n",
      "Accuracy Drop due to attack: 0.1001\n"
     ]
    }
   ],
   "source": [
    "# Evaluate the baseline model on the ADVERSARIAL test set\n",
    "print(\"\\n--- Evaluating baseline model on ADVERSARIAL test data ---\")\n",
    "\n",
    "# Use the original Keras model's evaluate method\n",
    "score_adv = model.evaluate(x_test_adv, y_test_categorical, verbose=0)\n",
    "adversarial_accuracy = score_adv[1]\n",
    "\n",
    "print(f\"Adversarial Test Loss: {score_adv[0]:.4f}\")\n",
    "print(f\"Adversarial Test Accuracy: {adversarial_accuracy:.4f}\")\n",
    "\n",
    "# Compare with baseline accuracy\n",
    "print(\"\\n--- Comparison ---\")\n",
    "print(f\"Clean Test Accuracy (Baseline): {baseline_accuracy:.4f}\")\n",
    "print(f\"Adversarial Test Accuracy (FGSM, eps={epsilon}): {adversarial_accuracy:.4f}\")\n",
    "accuracy_drop = baseline_accuracy - adversarial_accuracy\n",
    "print(f\"Accuracy Drop due to attack: {accuracy_drop:.4f}\")"
   ]
  },
  {
   "cell_type": "markdown",
   "id": "09d206d1",
   "metadata": {},
   "source": [
    "### Step 8: Visualize Results\n",
    "\n",
    "To better understand the effect of the FGSM attack, let's visualize a few examples. We will display:\n",
    "- The original clean test image.\n",
    "- The model's prediction on the clean image.\n",
    "- The adversarial image generated by FGSM.\n",
    "- The model's (likely incorrect) prediction on the adversarial image.\n",
    "- The perturbation (noise) added by the attack (amplified for visibility).\n",
    "\n",
    "We'll focus on examples where the attack successfully fooled the model."
   ]
  },
  {
   "cell_type": "code",
   "execution_count": 10,
   "id": "e6ef28b1",
   "metadata": {},
   "outputs": [
    {
     "name": "stdout",
     "output_type": "stream",
     "text": [
      "\u001b[1m313/313\u001b[0m \u001b[32m━━━━━━━━━━━━━━━━━━━━\u001b[0m\u001b[37m\u001b[0m \u001b[1m1s\u001b[0m 3ms/step\n",
      "\u001b[1m313/313\u001b[0m \u001b[32m━━━━━━━━━━━━━━━━━━━━\u001b[0m\u001b[37m\u001b[0m \u001b[1m1s\u001b[0m 3ms/step\n",
      "\n",
      "--- Displaying 5 examples of FGSM attack (eps=0.1) ---\n"
     ]
    },
    {
     "data": {
      "image/png": "[encoded data removed]",
      "text/plain": [
       "<Figure size 1500x1700 with 15 Axes>"
      ]
     },
     "metadata": {},
     "output_type": "display_data"
    }
   ],
   "source": [
    "# --- Visualization ---\n",
    "import matplotlib.pyplot as plt\n",
    "import numpy as np\n",
    "\n",
    "# Get model predictions for both clean and adversarial images\n",
    "# Use the original Keras model for predictions\n",
    "preds_clean = model.predict(x_test)\n",
    "preds_adv = model.predict(x_test_adv)\n",
    "\n",
    "# Convert one-hot encoded labels and predictions to integers\n",
    "labels_clean_int = np.argmax(y_test_categorical, axis=1)\n",
    "preds_clean_int = np.argmax(preds_clean, axis=1)\n",
    "preds_adv_int = np.argmax(preds_adv, axis=1)\n",
    "\n",
    "# Find indices where the attack was successful\n",
    "# i.e., model was correct on clean image, but wrong on adversarial image\n",
    "successful_attack_indices = np.where((preds_clean_int == labels_clean_int) &\n",
    "                                     (preds_adv_int != labels_clean_int))[0]\n",
    "\n",
    "# Select a few examples to display\n",
    "num_examples_to_show = 5\n",
    "if len(successful_attack_indices) < num_examples_to_show:\n",
    "    print(f\"Warning: Found only {len(successful_attack_indices)} successful attacks.\")\n",
    "    # If few successes, maybe show some where original was correct, regardless of adv pred\n",
    "    print(\"Showing examples where original prediction was correct.\")\n",
    "    display_indices = np.where(preds_clean_int == labels_clean_int)[0][:num_examples_to_show]\n",
    "else:\n",
    "     display_indices = successful_attack_indices[:num_examples_to_show]\n",
    "\n",
    "\n",
    "print(f\"\\n--- Displaying {len(display_indices)} examples of FGSM attack (eps={epsilon}) ---\")\n",
    "\n",
    "plt.figure(figsize=(15, 2 + 3 * len(display_indices))) # Adjust figure size\n",
    "\n",
    "for i, index in enumerate(display_indices):\n",
    "    # Original image\n",
    "    plt.subplot(len(display_indices), 3, i * 3 + 1)\n",
    "    # Reshape to (28, 28) for imshow if needed (remove channel dim)\n",
    "    plt.imshow(x_test[index].squeeze(), cmap='gray')\n",
    "    plt.title(f\"Original\\nTrue: {labels_clean_int[index]}\\nPred: {preds_clean_int[index]}\")\n",
    "    plt.axis('off')\n",
    "\n",
    "    # Perturbation (amplified for visibility)\n",
    "    # Ensure perturbation is calculated correctly and clipped if necessary for visualization\n",
    "    perturbation = x_test_adv[index] - x_test[index]\n",
    "    # Scale perturbation for display: map range roughly to [0,1]\n",
    "    pert_min = np.min(perturbation)\n",
    "    pert_max = np.max(perturbation)\n",
    "    if pert_max - pert_min > 1e-5: # Avoid division by zero\n",
    "         perturbation_viz = (perturbation - pert_min) / (pert_max - pert_min)\n",
    "    else:\n",
    "         perturbation_viz = perturbation # If no difference, show as is\n",
    "\n",
    "    plt.subplot(len(display_indices), 3, i * 3 + 2)\n",
    "    plt.imshow(perturbation_viz.squeeze(), cmap='gray')\n",
    "    plt.title(f\"Perturbation\\n(Amplified)\")\n",
    "    plt.axis('off')\n",
    "\n",
    "\n",
    "    # Adversarial image\n",
    "    plt.subplot(len(display_indices), 3, i * 3 + 3)\n",
    "    plt.imshow(x_test_adv[index].squeeze(), cmap='gray')\n",
    "    plt.title(f\"Adversarial (FGSM)\\nTrue: {labels_clean_int[index]}\\nPred: {preds_adv_int[index]}\")\n",
    "    plt.axis('off')\n",
    "\n",
    "plt.tight_layout()\n",
    "plt.show()"
   ]
  },
  {
   "cell_type": "markdown",
   "id": "3d9f73b4",
   "metadata": {},
   "source": [
    "---\n",
    "# Part 2: Defense Against Evasion Attacks - Adversarial Training\n",
    "---\n",
    "\n",
    "In Part 1, we demonstrated that our baseline CNN model is vulnerable to FGSM evasion attacks. Now, we will implement a common defense technique: **Adversarial Training**.\n",
    "\n",
    "The core idea is to retrain the model using a dataset that includes both original clean images and adversarial examples generated from those clean images. This exposure during training helps the model learn features that are more robust to the specific type of perturbations introduced by the attack.\n",
    "\n",
    "### Step 9: Generate Adversarial Training Data\n",
    "\n",
    "First, we need to create adversarial versions of our *training* data (`x_train`) using the same FGSM attack configuration (`attack_fgsm`, `epsilon=0.1`) we used against the test set."
   ]
  },
  {
   "cell_type": "code",
   "execution_count": 11,
   "id": "5c30e620",
   "metadata": {},
   "outputs": [
    {
     "name": "stdout",
     "output_type": "stream",
     "text": [
      "--- Generating adversarial examples for the TRAINING set using FGSM ---\n",
      "Using epsilon = 0.1\n",
      "Adversarial training examples generated.\n",
      "Shape of adversarial training set: (60000, 28, 28, 1)\n"
     ]
    }
   ],
   "source": [
    "# --- Generate adversarial examples for the TRAINING set ---\n",
    "print(\"--- Generating adversarial examples for the TRAINING set using FGSM ---\")\n",
    "print(f\"Using epsilon = {epsilon}\") # Re-state the epsilon being used\n",
    "\n",
    "# Generate adversarial training examples\n",
    "# Note: This can take significantly longer than generating for the test set\n",
    "# because the training set is larger (60,000 images vs 10,000).\n",
    "# Consider generating on a subset for faster experimentation if needed:\n",
    "# subset_size = 10000\n",
    "# x_train_adv = attack_fgsm.generate(x=x_train[:subset_size])\n",
    "# But for a proper defense evaluation, using the full set is better if time permits.\n",
    "\n",
    "x_train_adv = attack_fgsm.generate(x=x_train)\n",
    "\n",
    "print(\"Adversarial training examples generated.\")\n",
    "print(f\"Shape of adversarial training set: {x_train_adv.shape}\")\n",
    "\n",
    "# Optional: Check a sample perturbation on training data\n",
    "# perturbation_train_sample = x_train_adv[0] - x_train[0]\n",
    "# print(f\"Perturbation range on a training sample: min={np.min(perturbation_train_sample):.4f}, max={np.max(perturbation_train_sample):.4f}\")"
   ]
  },
  {
   "cell_type": "markdown",
   "id": "3b2f6440",
   "metadata": {},
   "source": [
    "### Step 10: Create Augmented Training Dataset\n",
    "\n",
    "Combine the original clean training images (`x_train`) with the newly generated adversarial training images (`x_train_adv`). The corresponding labels remain the same (since FGSM doesn't change the true class, just fools the model). We then shuffle this augmented dataset to ensure the model sees clean and adversarial examples in a mixed order during training."
   ]
  },
  {
   "cell_type": "code",
   "execution_count": 12,
   "id": "7a48e57b",
   "metadata": {},
   "outputs": [
    {
     "name": "stdout",
     "output_type": "stream",
     "text": [
      "--- Augmented training dataset created ---\n",
      "Shape of augmented training images: (120000, 28, 28, 1)\n",
      "Shape of augmented training labels: (120000, 10)\n"
     ]
    }
   ],
   "source": [
    "# --- Combine clean and adversarial training data ---\n",
    "\n",
    "# Stack the clean and adversarial training images\n",
    "x_train_augmented = np.vstack((x_train, x_train_adv))\n",
    "\n",
    "# Stack the corresponding labels (they are the same for clean and adversarial versions)\n",
    "# y_train_categorical contains the one-hot encoded labels from Step 2\n",
    "# If you used a subset for x_train_adv, make sure to use the corresponding subset of labels here.\n",
    "y_train_augmented = np.vstack((y_train_categorical, y_train_categorical))\n",
    "\n",
    "# Shuffle the augmented dataset\n",
    "# It's crucial to shuffle so the model doesn't see all clean then all adversarial samples\n",
    "num_augmented_samples = x_train_augmented.shape[0]\n",
    "shuffle_indices = np.random.permutation(num_augmented_samples)\n",
    "\n",
    "x_train_augmented = x_train_augmented[shuffle_indices]\n",
    "y_train_augmented = y_train_augmented[shuffle_indices]\n",
    "\n",
    "print(\"--- Augmented training dataset created ---\")\n",
    "print(f\"Shape of augmented training images: {x_train_augmented.shape}\")\n",
    "print(f\"Shape of augmented training labels: {y_train_augmented.shape}\")"
   ]
  },
  {
   "cell_type": "markdown",
   "id": "acec9d0a",
   "metadata": {},
   "source": [
    "### Step 11: Define and Train the Defended Model\n",
    "\n",
    "We now define a *new* CNN model with the **exact same architecture** as our baseline model. It's important to start from scratch (uninitialized weights) rather than continuing to train the baseline model. We then train this new model using the augmented dataset (`x_train_augmented`, `y_train_augmented`) created in the previous step.\n",
    "\n",
    "This process exposes the model to both clean and adversarial examples during its learning phase, encouraging it to develop representations that are less sensitive to the FGSM perturbations."
   ]
  },
  {
   "cell_type": "code",
   "execution_count": 13,
   "id": "26252cdb",
   "metadata": {},
   "outputs": [
    {
     "name": "stderr",
     "output_type": "stream",
     "text": [
      "g:\\semester 6\\IS\\project\\.venv\\Lib\\site-packages\\keras\\src\\layers\\convolutional\\base_conv.py:107: UserWarning: Do not pass an `input_shape`/`input_dim` argument to a layer. When using Sequential models, prefer using an `Input(shape)` object as the first layer in the model instead.\n",
      "  super().__init__(activity_regularizer=activity_regularizer, **kwargs)\n"
     ]
    },
    {
     "data": {
      "text/html": [
       "<pre style=\"white-space:pre;overflow-x:auto;line-height:normal;font-family:Menlo,'DejaVu Sans Mono',consolas,'Courier New',monospace\"><span style=\"font-weight: bold\">Model: \"Defended_MNIST_CNN\"</span>\n",
       "</pre>\n"
      ],
      "text/plain": [
       "\u001b[1mModel: \"Defended_MNIST_CNN\"\u001b[0m\n"
      ]
     },
     "metadata": {},
     "output_type": "display_data"
    },
    {
     "data": {
      "text/html": [
       "<pre style=\"white-space:pre;overflow-x:auto;line-height:normal;font-family:Menlo,'DejaVu Sans Mono',consolas,'Courier New',monospace\">┏━━━━━━━━━━━━━━━━━━━━━━━━━━━━━━━━━┳━━━━━━━━━━━━━━━━━━━━━━━━┳━━━━━━━━━━━━━━━┓\n",
       "┃<span style=\"font-weight: bold\"> Layer (type)                    </span>┃<span style=\"font-weight: bold\"> Output Shape           </span>┃<span style=\"font-weight: bold\">       Param # </span>┃\n",
       "┡━━━━━━━━━━━━━━━━━━━━━━━━━━━━━━━━━╇━━━━━━━━━━━━━━━━━━━━━━━━╇━━━━━━━━━━━━━━━┩\n",
       "│ conv2d (<span style=\"color: #0087ff; text-decoration-color: #0087ff\">Conv2D</span>)                 │ (<span style=\"color: #00d7ff; text-decoration-color: #00d7ff\">None</span>, <span style=\"color: #00af00; text-decoration-color: #00af00\">26</span>, <span style=\"color: #00af00; text-decoration-color: #00af00\">26</span>, <span style=\"color: #00af00; text-decoration-color: #00af00\">32</span>)     │           <span style=\"color: #00af00; text-decoration-color: #00af00\">320</span> │\n",
       "├─────────────────────────────────┼────────────────────────┼───────────────┤\n",
       "│ max_pooling2d (<span style=\"color: #0087ff; text-decoration-color: #0087ff\">MaxPooling2D</span>)    │ (<span style=\"color: #00d7ff; text-decoration-color: #00d7ff\">None</span>, <span style=\"color: #00af00; text-decoration-color: #00af00\">13</span>, <span style=\"color: #00af00; text-decoration-color: #00af00\">13</span>, <span style=\"color: #00af00; text-decoration-color: #00af00\">32</span>)     │             <span style=\"color: #00af00; text-decoration-color: #00af00\">0</span> │\n",
       "├─────────────────────────────────┼────────────────────────┼───────────────┤\n",
       "│ conv2d_1 (<span style=\"color: #0087ff; text-decoration-color: #0087ff\">Conv2D</span>)               │ (<span style=\"color: #00d7ff; text-decoration-color: #00d7ff\">None</span>, <span style=\"color: #00af00; text-decoration-color: #00af00\">11</span>, <span style=\"color: #00af00; text-decoration-color: #00af00\">11</span>, <span style=\"color: #00af00; text-decoration-color: #00af00\">64</span>)     │        <span style=\"color: #00af00; text-decoration-color: #00af00\">18,496</span> │\n",
       "├─────────────────────────────────┼────────────────────────┼───────────────┤\n",
       "│ max_pooling2d_1 (<span style=\"color: #0087ff; text-decoration-color: #0087ff\">MaxPooling2D</span>)  │ (<span style=\"color: #00d7ff; text-decoration-color: #00d7ff\">None</span>, <span style=\"color: #00af00; text-decoration-color: #00af00\">5</span>, <span style=\"color: #00af00; text-decoration-color: #00af00\">5</span>, <span style=\"color: #00af00; text-decoration-color: #00af00\">64</span>)       │             <span style=\"color: #00af00; text-decoration-color: #00af00\">0</span> │\n",
       "├─────────────────────────────────┼────────────────────────┼───────────────┤\n",
       "│ flatten (<span style=\"color: #0087ff; text-decoration-color: #0087ff\">Flatten</span>)               │ (<span style=\"color: #00d7ff; text-decoration-color: #00d7ff\">None</span>, <span style=\"color: #00af00; text-decoration-color: #00af00\">1600</span>)           │             <span style=\"color: #00af00; text-decoration-color: #00af00\">0</span> │\n",
       "├─────────────────────────────────┼────────────────────────┼───────────────┤\n",
       "│ dropout (<span style=\"color: #0087ff; text-decoration-color: #0087ff\">Dropout</span>)               │ (<span style=\"color: #00d7ff; text-decoration-color: #00d7ff\">None</span>, <span style=\"color: #00af00; text-decoration-color: #00af00\">1600</span>)           │             <span style=\"color: #00af00; text-decoration-color: #00af00\">0</span> │\n",
       "├─────────────────────────────────┼────────────────────────┼───────────────┤\n",
       "│ dense (<span style=\"color: #0087ff; text-decoration-color: #0087ff\">Dense</span>)                   │ (<span style=\"color: #00d7ff; text-decoration-color: #00d7ff\">None</span>, <span style=\"color: #00af00; text-decoration-color: #00af00\">10</span>)             │        <span style=\"color: #00af00; text-decoration-color: #00af00\">16,010</span> │\n",
       "└─────────────────────────────────┴────────────────────────┴───────────────┘\n",
       "</pre>\n"
      ],
      "text/plain": [
       "┏━━━━━━━━━━━━━━━━━━━━━━━━━━━━━━━━━┳━━━━━━━━━━━━━━━━━━━━━━━━┳━━━━━━━━━━━━━━━┓\n",
       "┃\u001b[1m \u001b[0m\u001b[1mLayer (type)                   \u001b[0m\u001b[1m \u001b[0m┃\u001b[1m \u001b[0m\u001b[1mOutput Shape          \u001b[0m\u001b[1m \u001b[0m┃\u001b[1m \u001b[0m\u001b[1m      Param #\u001b[0m\u001b[1m \u001b[0m┃\n",
       "┡━━━━━━━━━━━━━━━━━━━━━━━━━━━━━━━━━╇━━━━━━━━━━━━━━━━━━━━━━━━╇━━━━━━━━━━━━━━━┩\n",
       "│ conv2d (\u001b[38;5;33mConv2D\u001b[0m)                 │ (\u001b[38;5;45mNone\u001b[0m, \u001b[38;5;34m26\u001b[0m, \u001b[38;5;34m26\u001b[0m, \u001b[38;5;34m32\u001b[0m)     │           \u001b[38;5;34m320\u001b[0m │\n",
       "├─────────────────────────────────┼────────────────────────┼───────────────┤\n",
       "│ max_pooling2d (\u001b[38;5;33mMaxPooling2D\u001b[0m)    │ (\u001b[38;5;45mNone\u001b[0m, \u001b[38;5;34m13\u001b[0m, \u001b[38;5;34m13\u001b[0m, \u001b[38;5;34m32\u001b[0m)     │             \u001b[38;5;34m0\u001b[0m │\n",
       "├─────────────────────────────────┼────────────────────────┼───────────────┤\n",
       "│ conv2d_1 (\u001b[38;5;33mConv2D\u001b[0m)               │ (\u001b[38;5;45mNone\u001b[0m, \u001b[38;5;34m11\u001b[0m, \u001b[38;5;34m11\u001b[0m, \u001b[38;5;34m64\u001b[0m)     │        \u001b[38;5;34m18,496\u001b[0m │\n",
       "├─────────────────────────────────┼────────────────────────┼───────────────┤\n",
       "│ max_pooling2d_1 (\u001b[38;5;33mMaxPooling2D\u001b[0m)  │ (\u001b[38;5;45mNone\u001b[0m, \u001b[38;5;34m5\u001b[0m, \u001b[38;5;34m5\u001b[0m, \u001b[38;5;34m64\u001b[0m)       │             \u001b[38;5;34m0\u001b[0m │\n",
       "├─────────────────────────────────┼────────────────────────┼───────────────┤\n",
       "│ flatten (\u001b[38;5;33mFlatten\u001b[0m)               │ (\u001b[38;5;45mNone\u001b[0m, \u001b[38;5;34m1600\u001b[0m)           │             \u001b[38;5;34m0\u001b[0m │\n",
       "├─────────────────────────────────┼────────────────────────┼───────────────┤\n",
       "│ dropout (\u001b[38;5;33mDropout\u001b[0m)               │ (\u001b[38;5;45mNone\u001b[0m, \u001b[38;5;34m1600\u001b[0m)           │             \u001b[38;5;34m0\u001b[0m │\n",
       "├─────────────────────────────────┼────────────────────────┼───────────────┤\n",
       "│ dense (\u001b[38;5;33mDense\u001b[0m)                   │ (\u001b[38;5;45mNone\u001b[0m, \u001b[38;5;34m10\u001b[0m)             │        \u001b[38;5;34m16,010\u001b[0m │\n",
       "└─────────────────────────────────┴────────────────────────┴───────────────┘\n"
      ]
     },
     "metadata": {},
     "output_type": "display_data"
    },
    {
     "data": {
      "text/html": [
       "<pre style=\"white-space:pre;overflow-x:auto;line-height:normal;font-family:Menlo,'DejaVu Sans Mono',consolas,'Courier New',monospace\"><span style=\"font-weight: bold\"> Total params: </span><span style=\"color: #00af00; text-decoration-color: #00af00\">34,826</span> (136.04 KB)\n",
       "</pre>\n"
      ],
      "text/plain": [
       "\u001b[1m Total params: \u001b[0m\u001b[38;5;34m34,826\u001b[0m (136.04 KB)\n"
      ]
     },
     "metadata": {},
     "output_type": "display_data"
    },
    {
     "data": {
      "text/html": [
       "<pre style=\"white-space:pre;overflow-x:auto;line-height:normal;font-family:Menlo,'DejaVu Sans Mono',consolas,'Courier New',monospace\"><span style=\"font-weight: bold\"> Trainable params: </span><span style=\"color: #00af00; text-decoration-color: #00af00\">34,826</span> (136.04 KB)\n",
       "</pre>\n"
      ],
      "text/plain": [
       "\u001b[1m Trainable params: \u001b[0m\u001b[38;5;34m34,826\u001b[0m (136.04 KB)\n"
      ]
     },
     "metadata": {},
     "output_type": "display_data"
    },
    {
     "data": {
      "text/html": [
       "<pre style=\"white-space:pre;overflow-x:auto;line-height:normal;font-family:Menlo,'DejaVu Sans Mono',consolas,'Courier New',monospace\"><span style=\"font-weight: bold\"> Non-trainable params: </span><span style=\"color: #00af00; text-decoration-color: #00af00\">0</span> (0.00 B)\n",
       "</pre>\n"
      ],
      "text/plain": [
       "\u001b[1m Non-trainable params: \u001b[0m\u001b[38;5;34m0\u001b[0m (0.00 B)\n"
      ]
     },
     "metadata": {},
     "output_type": "display_data"
    },
    {
     "name": "stdout",
     "output_type": "stream",
     "text": [
      "\n",
      "--- Training the DEFENDED model on AUGMENTED data ---\n",
      "Epoch 1/5\n",
      "\u001b[1m844/844\u001b[0m \u001b[32m━━━━━━━━━━━━━━━━━━━━\u001b[0m\u001b[37m\u001b[0m \u001b[1m19s\u001b[0m 20ms/step - accuracy: 0.8130 - loss: 0.5976 - val_accuracy: 0.9605 - val_loss: 0.1234\n",
      "Epoch 2/5\n",
      "\u001b[1m844/844\u001b[0m \u001b[32m━━━━━━━━━━━━━━━━━━━━\u001b[0m\u001b[37m\u001b[0m \u001b[1m14s\u001b[0m 16ms/step - accuracy: 0.9575 - loss: 0.1317 - val_accuracy: 0.9751 - val_loss: 0.0757\n",
      "Epoch 3/5\n",
      "\u001b[1m844/844\u001b[0m \u001b[32m━━━━━━━━━━━━━━━━━━━━\u001b[0m\u001b[37m\u001b[0m \u001b[1m14s\u001b[0m 17ms/step - accuracy: 0.9703 - loss: 0.0899 - val_accuracy: 0.9833 - val_loss: 0.0527\n",
      "Epoch 4/5\n",
      "\u001b[1m844/844\u001b[0m \u001b[32m━━━━━━━━━━━━━━━━━━━━\u001b[0m\u001b[37m\u001b[0m \u001b[1m15s\u001b[0m 17ms/step - accuracy: 0.9785 - loss: 0.0656 - val_accuracy: 0.9874 - val_loss: 0.0403\n",
      "Epoch 5/5\n",
      "\u001b[1m844/844\u001b[0m \u001b[32m━━━━━━━━━━━━━━━━━━━━\u001b[0m\u001b[37m\u001b[0m \u001b[1m15s\u001b[0m 18ms/step - accuracy: 0.9831 - loss: 0.0525 - val_accuracy: 0.9883 - val_loss: 0.0364\n",
      "\n",
      "Saving adversarially trained model to mnist_cnn_defended_adv_train.keras\n",
      "Defended model saved.\n"
     ]
    }
   ],
   "source": [
    "from tensorflow.keras.models import Sequential # Already imported, but good to be clear\n",
    "from tensorflow.keras.layers import Conv2D, MaxPooling2D, Flatten, Dense, Dropout # Ditto\n",
    "from tensorflow.keras.optimizers import Adam # Ditto\n",
    "\n",
    "# --- Define the NEW model for Adversarial Training ---\n",
    "# Use the same architecture as the baseline model (Step 3)\n",
    "\n",
    "model_defended = Sequential(name=\"Defended_MNIST_CNN\") # Give it a distinct name\n",
    "model_defended.add(Conv2D(32, kernel_size=(3, 3), activation='relu', input_shape=input_shape))\n",
    "model_defended.add(MaxPooling2D(pool_size=(2, 2)))\n",
    "model_defended.add(Conv2D(64, kernel_size=(3, 3), activation='relu'))\n",
    "model_defended.add(MaxPooling2D(pool_size=(2, 2)))\n",
    "model_defended.add(Flatten())\n",
    "model_defended.add(Dropout(0.5))\n",
    "model_defended.add(Dense(num_classes, activation='softmax'))\n",
    "\n",
    "# --- Compile the Defended Model ---\n",
    "# Use the same optimizer and loss object instance as before\n",
    "# Using the loss object instance 'loss_fn' created in Step 8 is recommended\n",
    "optimizer_defended = Adam(learning_rate=0.001) # Use a fresh optimizer instance\n",
    "model_defended.compile(loss=loss_fn, # Use the CategoricalCrossentropy object instance\n",
    "                       optimizer=optimizer_defended,\n",
    "                       metrics=['accuracy'])\n",
    "\n",
    "# Print model summary\n",
    "model_defended.summary()\n",
    "\n",
    "# --- Training parameters ---\n",
    "# May need slightly more epochs or adjustment compared to baseline,\n",
    "# but start with similar values.\n",
    "batch_size_defended = 128\n",
    "epochs_defended = 5 # Start with same epochs as baseline, may need tuning\n",
    "\n",
    "# --- Train the Defended Model on the Augmented Data ---\n",
    "print(\"\\n--- Training the DEFENDED model on AUGMENTED data ---\")\n",
    "history_defended = model_defended.fit(x_train_augmented, y_train_augmented,\n",
    "                                      batch_size=batch_size_defended,\n",
    "                                      epochs=epochs_defended,\n",
    "                                      verbose=1,\n",
    "                                      validation_split=0.1) # Validate on a split of the augmented data\n",
    "\n",
    "# --- Save the Defended Model ---\n",
    "model_defended_file_path = 'mnist_cnn_defended_adv_train.keras'\n",
    "print(f\"\\nSaving adversarially trained model to {model_defended_file_path}\")\n",
    "model_defended.save(model_defended_file_path)\n",
    "print(\"Defended model saved.\")"
   ]
  },
  {
   "cell_type": "markdown",
   "id": "1bf1c96d",
   "metadata": {},
   "source": [
    "### Step 12: Evaluate the Defended Model\n",
    "\n",
    "Now we evaluate the performance of the adversarially trained model (`model_defended`). Crucially, we test it on two datasets:\n",
    "1.  The **clean test set** (`x_test`): To see if adversarial training significantly harmed its ability to classify normal, unperturbed images. Ideally, the accuracy should remain high, though sometimes a slight drop compared to the baseline is observed.\n",
    "2.  The **adversarial test set** (`x_test_adv`): This is the key test. We use the *same* adversarial examples that fooled the original baseline model. We expect the defended model to perform significantly better (higher accuracy) on these examples than the baseline model did."
   ]
  },
  {
   "cell_type": "code",
   "execution_count": 14,
   "id": "201c5bcd",
   "metadata": {},
   "outputs": [
    {
     "name": "stdout",
     "output_type": "stream",
     "text": [
      "\n",
      "--- Evaluating DEFENDED model on CLEAN test data ---\n",
      "Defended Model - Clean Test Loss: 0.0320\n",
      "Defended Model - Clean Test Accuracy: 0.9897\n",
      "\n",
      "--- Evaluating DEFENDED model on ADVERSARIAL test data (FGSM, eps={epsilon}) ---\n",
      "Defended Model - Adversarial Test Loss: 0.0376\n",
      "Defended Model - Adversarial Test Accuracy: 0.9874\n",
      "\n",
      "--- Performance Comparison Summary ---\n",
      "\n",
      "Accuracy on CLEAN Data:\n",
      "  Baseline Model: 0.9876\n",
      "  Defended Model: 0.9897\n",
      "\n",
      "Accuracy on ADVERSARIAL Data (FGSM, eps={epsilon}):\n",
      "  Baseline Model: 0.8875\n",
      "  Defended Model: 0.9874\n",
      "\n",
      "Improvement in Adversarial Accuracy due to Defense: 0.0999\n"
     ]
    }
   ],
   "source": [
    "# Optional: Load the saved defended model if needed (e.g., if you restarted the notebook)\n",
    "# from tensorflow.keras.models import load_model\n",
    "# model_defended_file_path = 'mnist_cnn_defended_adv_train.keras'\n",
    "# if 'model_defended' not in locals(): # Check if model_defended exists in memory\n",
    "#     print(f\"Loading defended model from {model_defended_file_path}\")\n",
    "#     model_defended = load_model(model_defended_file_path)\n",
    "#     print(\"Defended model loaded.\")\n",
    "\n",
    "# --- Evaluate Defended Model on CLEAN Test Data ---\n",
    "print(\"\\n--- Evaluating DEFENDED model on CLEAN test data ---\")\n",
    "score_defended_clean = model_defended.evaluate(x_test, y_test_categorical, verbose=0)\n",
    "defended_accuracy_clean = score_defended_clean[1]\n",
    "\n",
    "print(f\"Defended Model - Clean Test Loss: {score_defended_clean[0]:.4f}\")\n",
    "print(f\"Defended Model - Clean Test Accuracy: {defended_accuracy_clean:.4f}\")\n",
    "\n",
    "# --- Evaluate Defended Model on ADVERSARIAL Test Data ---\n",
    "# Use the SAME x_test_adv generated in Step 6 (Cell 12)\n",
    "print(\"\\n--- Evaluating DEFENDED model on ADVERSARIAL test data (FGSM, eps={epsilon}) ---\")\n",
    "score_defended_adv = model_defended.evaluate(x_test_adv, y_test_categorical, verbose=0)\n",
    "defended_accuracy_adv = score_defended_adv[1]\n",
    "\n",
    "print(f\"Defended Model - Adversarial Test Loss: {score_defended_adv[0]:.4f}\")\n",
    "print(f\"Defended Model - Adversarial Test Accuracy: {defended_accuracy_adv:.4f}\")\n",
    "\n",
    "\n",
    "# --- Comparison Summary ---\n",
    "print(\"\\n--- Performance Comparison Summary ---\")\n",
    "\n",
    "print(\"\\nAccuracy on CLEAN Data:\")\n",
    "print(f\"  Baseline Model: {baseline_accuracy:.4f}\")\n",
    "print(f\"  Defended Model: {defended_accuracy_clean:.4f}\")\n",
    "\n",
    "print(\"\\nAccuracy on ADVERSARIAL Data (FGSM, eps={epsilon}):\")\n",
    "print(f\"  Baseline Model: {adversarial_accuracy:.4f}\") # Calculated in Step 7 (Cell 14)\n",
    "print(f\"  Defended Model: {defended_accuracy_adv:.4f}\")\n",
    "\n",
    "# Calculate improvement\n",
    "accuracy_improvement_adv = defended_accuracy_adv - adversarial_accuracy\n",
    "print(f\"\\nImprovement in Adversarial Accuracy due to Defense: {accuracy_improvement_adv:.4f}\")"
   ]
  },
  {
   "cell_type": "markdown",
   "id": "94c0392a",
   "metadata": {},
   "source": [
    "### Step 13: Visualize Comparative Results\n",
    "\n",
    "A bar chart provides an effective way to visualize the performance comparison between the baseline model and the adversarially trained (defended) model. We will plot the accuracy scores on both the clean test data and the adversarial test data (generated using FGSM with the specified epsilon) for both models side-by-side.\n",
    "\n",
    "This visualization should clearly highlight:\n",
    "1.  The significant drop in the baseline model's accuracy when faced with adversarial examples.\n",
    "2.  The improved robustness (higher accuracy on adversarial examples) of the defended model.\n",
    "3.  Any potential trade-off in accuracy on clean data for the defended model."
   ]
  },
  {
   "cell_type": "code",
   "execution_count": 15,
   "id": "0d9a5fdc",
   "metadata": {},
   "outputs": [
    {
     "data": {
      "image/png": "[encoded data removed]",
      "text/plain": [
       "<Figure size 1000x600 with 1 Axes>"
      ]
     },
     "metadata": {},
     "output_type": "display_data"
    }
   ],
   "source": [
    "import matplotlib.pyplot as plt\n",
    "import numpy as np\n",
    "\n",
    "# --- Data for Plotting ---\n",
    "labels = ['Clean Data', f'Adversarial Data\\n(FGSM eps={epsilon})']\n",
    "baseline_performance = [baseline_accuracy, adversarial_accuracy] # From Step 3 (Cell 6) & Step 7 (Cell 14)\n",
    "defended_performance = [defended_accuracy_clean, defended_accuracy_adv] # From Step 12 (Cell 24)\n",
    "\n",
    "x = np.arange(len(labels))  # the label locations\n",
    "width = 0.35  # the width of the bars\n",
    "\n",
    "# --- Create Plot ---\n",
    "fig, ax = plt.subplots(figsize=(10, 6)) # Increase figure size for better readability\n",
    "\n",
    "# Plot bars for baseline model\n",
    "rects1 = ax.bar(x - width/2, baseline_performance, width, label='Baseline Model', color='tab:blue')\n",
    "\n",
    "# Plot bars for defended model\n",
    "rects2 = ax.bar(x + width/2, defended_performance, width, label='Defended Model (Adv. Trained)', color='tab:orange')\n",
    "\n",
    "# --- Add labels, title, and axes ticks ---\n",
    "ax.set_ylabel('Accuracy')\n",
    "ax.set_title('Model Performance Comparison: Baseline vs. Defended')\n",
    "ax.set_xticks(x)\n",
    "ax.set_xticklabels(labels)\n",
    "ax.set_ylim([0, 1.05]) # Set y-axis limit slightly above 1.0\n",
    "ax.legend(loc='lower left') # Position legend\n",
    "\n",
    "# --- Add exact values on top of bars (optional but helpful) ---\n",
    "def autolabel(rects):\n",
    "    \"\"\"Attach a text label above each bar in *rects*, displaying its height.\"\"\"\n",
    "    for rect in rects:\n",
    "        height = rect.get_height()\n",
    "        ax.annotate(f'{height:.3f}', # Format to 3 decimal places\n",
    "                    xy=(rect.get_x() + rect.get_width() / 2, height),\n",
    "                    xytext=(0, 3),  # 3 points vertical offset\n",
    "                    textcoords=\"offset points\",\n",
    "                    ha='center', va='bottom')\n",
    "\n",
    "autolabel(rects1)\n",
    "autolabel(rects2)\n",
    "\n",
    "# --- Display Plot ---\n",
    "fig.tight_layout() # Adjust layout to prevent labels overlapping\n",
    "plt.show()"
   ]
  },
  {
   "cell_type": "code",
   "execution_count": 16,
   "id": "e0d8bce9",
   "metadata": {},
   "outputs": [
    {
     "name": "stdout",
     "output_type": "stream",
     "text": [
      "Saved clean test data to data\\x_test.npy\n",
      "Saved adversarial test data to data\\x_test_adv.npy\n"
     ]
    }
   ],
   "source": [
    "import numpy as np\n",
    "import os\n",
    "\n",
    "# Create data directory if it doesn't exist\n",
    "data_dir = 'data'\n",
    "os.makedirs(data_dir, exist_ok=True)\n",
    "\n",
    "# Assuming x_test is your clean test numpy array (e.g., shape (10000, 28, 28, 1))\n",
    "np.save(os.path.join(data_dir, 'x_test.npy'), x_test)\n",
    "print(f\"Saved clean test data to {os.path.join(data_dir, 'x_test.npy')}\")\n",
    "\n",
    "# Optional: Also save adversarial examples if you have x_test_adv\n",
    "if 'x_test_adv' in locals():\n",
    "   np.save(os.path.join(data_dir, 'x_test_adv.npy'), x_test_adv)\n",
    "   print(f\"Saved adversarial test data to {os.path.join(data_dir, 'x_test_adv.npy')}\")"
   ]
  },
  {
   "cell_type": "markdown",
   "id": "da604798",
   "metadata": {},
   "source": [
    "# Generate data for testing"
   ]
  },
  {
   "cell_type": "code",
   "execution_count": 17,
   "id": "77482637",
   "metadata": {},
   "outputs": [
    {
     "name": "stdout",
     "output_type": "stream",
     "text": [
      "--- Generating adversarial examples for test set (if needed) ---\n",
      "Using existing adversarial test examples.\n"
     ]
    }
   ],
   "source": [
    "# Make sure 'attack_fgsm' is defined and configured from Step 5/Cell 10\n",
    "# Make sure 'x_test' is loaded and preprocessed from Step 2/Cell 4\n",
    "\n",
    "print(\"--- Generating adversarial examples for test set (if needed) ---\")\n",
    "# Only generate if x_test_adv doesn't exist or you want to regenerate\n",
    "if 'x_test_adv' not in locals():\n",
    "    x_test_adv = attack_fgsm.generate(x=x_test)\n",
    "    print(\"Adversarial test examples generated.\")\n",
    "else:\n",
    "    print(\"Using existing adversarial test examples.\")"
   ]
  },
  {
   "cell_type": "code",
   "execution_count": null,
   "id": "cbd41cec",
   "metadata": {},
   "outputs": [],
   "source": []
  }
 ],
 "metadata": {
  "kernelspec": {
   "display_name": ".venv",
   "language": "python",
   "name": "python3"
  },
  "language_info": {
   "codemirror_mode": {
    "name": "ipython",
    "version": 3
   },
   "file_extension": ".py",
   "mimetype": "text/x-python",
   "name": "python",
   "nbconvert_exporter": "python",
   "pygments_lexer": "ipython3",
   "version": "3.12.6"
  }
 },
 "nbformat": 4,
 "nbformat_minor": 5
}
